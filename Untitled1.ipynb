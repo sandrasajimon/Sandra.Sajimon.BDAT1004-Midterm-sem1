{
 "cells": [
  {
   "cell_type": "code",
   "execution_count": 14,
   "id": "852fc233",
   "metadata": {},
   "outputs": [
    {
     "name": "stdout",
     "output_type": "stream",
     "text": [
      "5.0\n",
      "1.3333333333333333\n"
     ]
    }
   ],
   "source": [
    "class Point:\n",
    "    def __init__(self,x=0,y=0):\n",
    "        self.x=x\n",
    "        self.y=y\n",
    "        \n",
    "class Segment:\n",
    "    def __init__(self,point1,point2):\n",
    "        self.point1=point1\n",
    "        self.point2=point2\n",
    "        \n",
    "    def length(self):\n",
    "        x1,y1=self.point1.x,self.point1.y\n",
    "        x2,y2=self.point2.x,self.point2.y\n",
    "        return((x2-x1)**2+(y2-y1)**2)**0.5\n",
    "    def slope(self):\n",
    "        x1,y1=self.point1.x,self.point1.y\n",
    "        x2,y2=self.point2.x,self.point2.y\n",
    "        if x2-x1==0:\n",
    "            return None\n",
    "        else:\n",
    "            return((y2-y1)/(x2-x1))\n",
    "        \n",
    "p1=Point(3,4)\n",
    "p2=Point()\n",
    "s=Segment(p1,p2)\n",
    "print(s.length())\n",
    "print(s.slope())"
   ]
  }
 ],
 "metadata": {
  "kernelspec": {
   "display_name": "Python 3 (ipykernel)",
   "language": "python",
   "name": "python3"
  },
  "language_info": {
   "codemirror_mode": {
    "name": "ipython",
    "version": 3
   },
   "file_extension": ".py",
   "mimetype": "text/x-python",
   "name": "python",
   "nbconvert_exporter": "python",
   "pygments_lexer": "ipython3",
   "version": "3.11.4"
  }
 },
 "nbformat": 4,
 "nbformat_minor": 5
}
